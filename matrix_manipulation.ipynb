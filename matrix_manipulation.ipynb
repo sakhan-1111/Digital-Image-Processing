{
 "cells": [
  {
   "cell_type": "markdown",
   "id": "8de420ef",
   "metadata": {},
   "source": [
    "# Shafiqul Alam Khan\n",
    "\n",
    "# EE 5323 Digital Image Processing\n",
    "\n",
    "# Homework 1\n",
    "\n",
    "# Due Date: 1/24/2023"
   ]
  },
  {
   "cell_type": "code",
   "execution_count": 1,
   "id": "57aa9051",
   "metadata": {},
   "outputs": [],
   "source": [
    "# import the builtin time & ctime module\n",
    "from time import process_time, perf_counter\n",
    "\n",
    "# Start counting time\n",
    "st = process_time()"
   ]
  },
  {
   "cell_type": "markdown",
   "id": "91f7c1b1",
   "metadata": {},
   "source": [
    "## 2. Define two variables, \"matrix_a\" and \"matrix_b\", that are 10,000x10,000 matrices filled with random values between 0 and 1. (Use numpy random capabilities)\n",
    "### a. Print the generated matrix_a & matrix_b"
   ]
  },
  {
   "cell_type": "code",
   "execution_count": 2,
   "id": "8b7ab458",
   "metadata": {},
   "outputs": [
    {
     "name": "stdout",
     "output_type": "stream",
     "text": [
      "[[0.59321119 0.52589135 0.87468681 ... 0.17730985 0.35347223 0.03123697]\n",
      " [0.97083456 0.23367593 0.81461232 ... 0.38523674 0.13783963 0.38268672]\n",
      " [0.34836982 0.11314288 0.95310627 ... 0.71657029 0.63264736 0.18158931]\n",
      " ...\n",
      " [0.35284487 0.26516167 0.21666351 ... 0.68116829 0.62730179 0.48405729]\n",
      " [0.67943171 0.61624286 0.94830517 ... 0.05981799 0.43752374 0.29878795]\n",
      " [0.69526373 0.14834842 0.9650108  ... 0.88860927 0.64528286 0.42108902]]\n",
      "[[0.62782633 0.03627533 0.87536342 ... 0.7056558  0.74761762 0.88614155]\n",
      " [0.59191851 0.48714484 0.3781678  ... 0.20425218 0.99995557 0.1431898 ]\n",
      " [0.71069593 0.07968946 0.83283519 ... 0.94095021 0.77959568 0.49407614]\n",
      " ...\n",
      " [0.85818455 0.18112814 0.47504767 ... 0.25109661 0.18985285 0.73031691]\n",
      " [0.59309933 0.40229582 0.10935716 ... 0.77634612 0.36869221 0.63070388]\n",
      " [0.54065803 0.14269512 0.23081889 ... 0.4598961  0.08025252 0.7243829 ]]\n"
     ]
    }
   ],
   "source": [
    "# importing numpy\n",
    "import numpy as np\n",
    "\n",
    "# Generate matrix_a\n",
    "matrix_a = np.random.rand(10000, 10000)\n",
    "\n",
    "# Generate matrix_b\n",
    "matrix_b = np.random.rand(10000, 10000)\n",
    "\n",
    "# Print matrix_a\n",
    "print(matrix_a)\n",
    "\n",
    "# Print matrix_b\n",
    "print(matrix_b)"
   ]
  },
  {
   "cell_type": "markdown",
   "id": "e9020c13",
   "metadata": {},
   "source": [
    "## 3. Define a function called \"matrix_addition\" that takes in two matrices and returns the sum of the two matrices.\n",
    "### a. Print the sum of matrix_a and matrix_b"
   ]
  },
  {
   "cell_type": "code",
   "execution_count": 3,
   "id": "47ebd386",
   "metadata": {},
   "outputs": [
    {
     "data": {
      "text/plain": [
       "array([[1.22103752, 0.56216668, 1.75005022, ..., 0.88296564, 1.10108985,\n",
       "        0.91737852],\n",
       "       [1.56275307, 0.72082077, 1.19278012, ..., 0.58948892, 1.1377952 ,\n",
       "        0.52587652],\n",
       "       [1.05906575, 0.19283234, 1.78594147, ..., 1.6575205 , 1.41224304,\n",
       "        0.67566545],\n",
       "       ...,\n",
       "       [1.21102942, 0.44628981, 0.69171118, ..., 0.93226489, 0.81715464,\n",
       "        1.2143742 ],\n",
       "       [1.27253104, 1.01853868, 1.05766233, ..., 0.83616411, 0.80621595,\n",
       "        0.92949183],\n",
       "       [1.23592175, 0.29104354, 1.19582969, ..., 1.34850536, 0.72553538,\n",
       "        1.14547193]])"
      ]
     },
     "execution_count": 3,
     "metadata": {},
     "output_type": "execute_result"
    }
   ],
   "source": [
    "# Defining matrix_addition function\n",
    "def matrix_addition(X, Y):\n",
    "    \"\"\"Add two matrices\"\"\"\n",
    "    result = X + Y\n",
    "    return result\n",
    "\n",
    "# Print the sum of two matrices\n",
    "matrix_addition(matrix_a, matrix_b)"
   ]
  },
  {
   "cell_type": "markdown",
   "id": "692dd132",
   "metadata": {},
   "source": [
    "## 4. Define a function called \"matrix_multiplication\" that takes in two matrices and returns the product of the two matrices.\n",
    "### a. Print the product of matrix_a and matrix_b\n",
    "### b. Calculate and print the time it takes to calculate the multiplication operation"
   ]
  },
  {
   "cell_type": "code",
   "execution_count": 4,
   "id": "368fcb98",
   "metadata": {},
   "outputs": [
    {
     "name": "stdout",
     "output_type": "stream",
     "text": [
      "[[2505.84586836 2517.78007335 2501.12798956 ... 2514.41451871\n",
      "  2503.45643129 2493.20564247]\n",
      " [2537.32832531 2525.57941173 2524.8206611  ... 2526.15081054\n",
      "  2523.47169428 2508.40560419]\n",
      " [2518.49178239 2513.57963557 2501.48999782 ... 2503.85329473\n",
      "  2505.8231972  2490.42637024]\n",
      " ...\n",
      " [2518.3287373  2536.58947907 2494.75430418 ... 2515.42718748\n",
      "  2508.6872537  2499.70546552]\n",
      " [2531.5039499  2534.03880633 2526.58904543 ... 2535.6840269\n",
      "  2526.40497078 2509.44699932]\n",
      " [2481.96257356 2516.69593135 2478.90752176 ... 2494.90931466\n",
      "  2501.61905728 2473.55312196]]\n",
      "\n",
      " Execution time: 12.9022379\n"
     ]
    }
   ],
   "source": [
    "# Defining matrix_multiplication fuction\n",
    "def matrix_multiplication(X, Y):\n",
    "    \"\"\"product of two matrices\"\"\"\n",
    "    result = np.dot(X, Y)\n",
    "    return result\n",
    "\n",
    "# Start of counting time\n",
    "start = perf_counter()\n",
    "\n",
    "# Print the product of two matrices\n",
    "print(matrix_multiplication(matrix_a, matrix_b))\n",
    "\n",
    "# End of counting timne\n",
    "end = perf_counter()\n",
    "\n",
    "# Calculation of time\n",
    "time = (end - start)\n",
    "\n",
    "print(\"\\n Execution time: \"+str(time))"
   ]
  },
  {
   "cell_type": "markdown",
   "id": "01b7d894",
   "metadata": {},
   "source": [
    "## 5.Define a function called \"matrix_transpose\" that takes in a matrix and returns the transpose of the matrix.\n",
    "### a. Print the transpose of matrix_a\n",
    "### b. Print the transpose of matrix_b"
   ]
  },
  {
   "cell_type": "code",
   "execution_count": 5,
   "id": "bafb4d42",
   "metadata": {},
   "outputs": [
    {
     "name": "stdout",
     "output_type": "stream",
     "text": [
      "[[0.59321119 0.97083456 0.34836982 ... 0.35284487 0.67943171 0.69526373]\n",
      " [0.52589135 0.23367593 0.11314288 ... 0.26516167 0.61624286 0.14834842]\n",
      " [0.87468681 0.81461232 0.95310627 ... 0.21666351 0.94830517 0.9650108 ]\n",
      " ...\n",
      " [0.17730985 0.38523674 0.71657029 ... 0.68116829 0.05981799 0.88860927]\n",
      " [0.35347223 0.13783963 0.63264736 ... 0.62730179 0.43752374 0.64528286]\n",
      " [0.03123697 0.38268672 0.18158931 ... 0.48405729 0.29878795 0.42108902]]\n",
      "[[0.62782633 0.59191851 0.71069593 ... 0.85818455 0.59309933 0.54065803]\n",
      " [0.03627533 0.48714484 0.07968946 ... 0.18112814 0.40229582 0.14269512]\n",
      " [0.87536342 0.3781678  0.83283519 ... 0.47504767 0.10935716 0.23081889]\n",
      " ...\n",
      " [0.7056558  0.20425218 0.94095021 ... 0.25109661 0.77634612 0.4598961 ]\n",
      " [0.74761762 0.99995557 0.77959568 ... 0.18985285 0.36869221 0.08025252]\n",
      " [0.88614155 0.1431898  0.49407614 ... 0.73031691 0.63070388 0.7243829 ]]\n"
     ]
    }
   ],
   "source": [
    "# Defining matrix_transpose function\n",
    "def matrix_transpose(X):\n",
    "    \"\"\"Transpose of a matrix\"\"\"\n",
    "    result = np.transpose(X)\n",
    "    return result\n",
    "\n",
    "# Print transpose of matrix_a\n",
    "print(matrix_transpose(matrix_a))\n",
    "\n",
    "# Print transpose of matrix_b\n",
    "print(matrix_transpose(matrix_b))"
   ]
  },
  {
   "cell_type": "markdown",
   "id": "990b7e91",
   "metadata": {},
   "source": [
    "## 6. Calculate and print the time it takes to calculate the entire program"
   ]
  },
  {
   "cell_type": "code",
   "execution_count": 6,
   "id": "ed8eeebe",
   "metadata": {},
   "outputs": [
    {
     "name": "stdout",
     "output_type": "stream",
     "text": [
      "Total Execution time: 52.8125\n"
     ]
    }
   ],
   "source": [
    "# end of counting time\n",
    "en = process_time()\n",
    "total_time = en - st\n",
    "print(\"Total Execution time: \"+ str(total_time))"
   ]
  },
  {
   "cell_type": "markdown",
   "id": "2deb7605",
   "metadata": {},
   "source": [
    "## 7. Calculate the percentage of the multiplication time to the time of execution of the whole program"
   ]
  },
  {
   "cell_type": "code",
   "execution_count": 8,
   "id": "25797a1a",
   "metadata": {},
   "outputs": [
    {
     "name": "stdout",
     "output_type": "stream",
     "text": [
      "75.56972705325443%\n"
     ]
    }
   ],
   "source": [
    "print(str(((total_time-time)/total_time)*100) + \"%\")"
   ]
  }
 ],
 "metadata": {
  "kernelspec": {
   "display_name": "Python 3 (ipykernel)",
   "language": "python",
   "name": "python3"
  },
  "language_info": {
   "codemirror_mode": {
    "name": "ipython",
    "version": 3
   },
   "file_extension": ".py",
   "mimetype": "text/x-python",
   "name": "python",
   "nbconvert_exporter": "python",
   "pygments_lexer": "ipython3",
   "version": "3.9.16"
  }
 },
 "nbformat": 4,
 "nbformat_minor": 5
}
