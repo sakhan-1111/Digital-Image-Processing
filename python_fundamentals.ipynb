{
 "cells": [
  {
   "cell_type": "markdown",
   "id": "0a9b6854",
   "metadata": {},
   "source": [
    "## 2. Define a function called \"sum_numbers\" that takes in a list of numbers and returns the sum of all the numbers in the list. "
   ]
  },
  {
   "cell_type": "code",
   "execution_count": 1,
   "id": "59b416b6",
   "metadata": {},
   "outputs": [],
   "source": [
    "def sum_numbers(numbers):\n",
    "    total = 0\n",
    "    for x in numbers:\n",
    "        total += x\n",
    "    return total"
   ]
  },
  {
   "cell_type": "markdown",
   "id": "23fae2fc",
   "metadata": {},
   "source": [
    "## 3. Define a function called \"even_numbers\" that takes in a list of numbers and returns a new list containing only the even numbers from the original list.  "
   ]
  },
  {
   "cell_type": "code",
   "execution_count": 2,
   "id": "a7be0642",
   "metadata": {},
   "outputs": [],
   "source": [
    "def even_numbers(numbers):\n",
    "    result = []\n",
    "    for num in numbers:\n",
    "        if num % 2 == 0:\n",
    "            result.append(num)\n",
    "    return result"
   ]
  },
  {
   "cell_type": "markdown",
   "id": "c887d4d7",
   "metadata": {},
   "source": [
    "## 4. Define a function called \"largest_number\" that takes in a list of numbers and returns the largest number in the list."
   ]
  },
  {
   "cell_type": "code",
   "execution_count": 3,
   "id": "cbf0ce27",
   "metadata": {},
   "outputs": [],
   "source": [
    "def largest_number(numbers):\n",
    "    return max(numbers)"
   ]
  },
  {
   "cell_type": "markdown",
   "id": "d57308c8",
   "metadata": {},
   "source": [
    "## 5. Define a function called \"smallest_number\" that takes in a list of numbers and returns the smallest number in the list. "
   ]
  },
  {
   "cell_type": "code",
   "execution_count": 4,
   "id": "7f43b489",
   "metadata": {},
   "outputs": [],
   "source": [
    "def smallest_number(numbers):\n",
    "    return min(numbers)"
   ]
  },
  {
   "cell_type": "markdown",
   "id": "ec8ef895",
   "metadata": {},
   "source": [
    "## 6. Define a function called \"reverse_string\" that takes in a string and returns the string reversed."
   ]
  },
  {
   "cell_type": "code",
   "execution_count": 5,
   "id": "61f1c1fe",
   "metadata": {},
   "outputs": [],
   "source": [
    "def reverse_string(string):\n",
    "    string = string[::-1]\n",
    "    return string"
   ]
  },
  {
   "cell_type": "markdown",
   "id": "8ebe929c",
   "metadata": {},
   "source": [
    "## 7. Define a function called \"is_palindrome\" that takes in a string and returns a Boolean value indicating if the string is a palindrome (a word, phrase, or sequence that reads the same backwards as forwards) "
   ]
  },
  {
   "cell_type": "code",
   "execution_count": 6,
   "id": "ebd9b3fb",
   "metadata": {},
   "outputs": [],
   "source": [
    "def is_palindrome(string):\n",
    "    string = string.lower().replace(' ', '')\n",
    "    return string == string[::-1]"
   ]
  },
  {
   "cell_type": "markdown",
   "id": "db99044b",
   "metadata": {},
   "source": [
    "## 8. Use the functions you defined to complete the following tasks: \n",
    " \n",
    "• Print the sum of the numbers in the list [1, 2, 3, 4, 5] \n",
    "\n",
    "• Print a list of even numbers from the list [1, 2, 3, 4, 5, 6, 7, 8, 9, 10] \n",
    "\n",
    "• Print the largest number in the list [1, 2, 3, 4, 5, 6, 7, 8, 9, 10] \n",
    "\n",
    "• Print the smallest number in the list [1, 2, 3, 4, 5, 6, 7, 8, 9, 10]\n",
    "\n",
    "• Print a reversed string \"Hello, World!\" \n",
    "\n",
    "• Print a Boolean value indicating if the string \"racecar\" is a palindrome."
   ]
  },
  {
   "cell_type": "code",
   "execution_count": 7,
   "id": "9f97b80d",
   "metadata": {},
   "outputs": [
    {
     "name": "stdout",
     "output_type": "stream",
     "text": [
      "15\n"
     ]
    }
   ],
   "source": [
    "print(sum_numbers([1, 2, 3, 4, 5]))"
   ]
  },
  {
   "cell_type": "code",
   "execution_count": 8,
   "id": "ff9494e1",
   "metadata": {},
   "outputs": [
    {
     "name": "stdout",
     "output_type": "stream",
     "text": [
      "[2, 4, 6, 8, 10]\n"
     ]
    }
   ],
   "source": [
    "print(even_numbers([1, 2, 3, 4, 5, 6, 7, 8, 9, 10]))"
   ]
  },
  {
   "cell_type": "code",
   "execution_count": 9,
   "id": "3c630ec3",
   "metadata": {},
   "outputs": [
    {
     "name": "stdout",
     "output_type": "stream",
     "text": [
      "10\n"
     ]
    }
   ],
   "source": [
    "print(largest_number([1, 2, 3, 4, 5, 6, 7, 8, 9, 10]))"
   ]
  },
  {
   "cell_type": "code",
   "execution_count": 10,
   "id": "4a1a7fce",
   "metadata": {},
   "outputs": [
    {
     "name": "stdout",
     "output_type": "stream",
     "text": [
      "1\n"
     ]
    }
   ],
   "source": [
    "print(smallest_number([1, 2, 3, 4, 5, 6, 7, 8, 9, 10]))"
   ]
  },
  {
   "cell_type": "code",
   "execution_count": 11,
   "id": "0b49882f",
   "metadata": {},
   "outputs": [
    {
     "name": "stdout",
     "output_type": "stream",
     "text": [
      "!dlroW ,olleH\n"
     ]
    }
   ],
   "source": [
    "print(reverse_string( \"Hello, World!\"))"
   ]
  },
  {
   "cell_type": "code",
   "execution_count": 12,
   "id": "cdbbaaea",
   "metadata": {},
   "outputs": [
    {
     "name": "stdout",
     "output_type": "stream",
     "text": [
      "True\n"
     ]
    }
   ],
   "source": [
    "print(is_palindrome('racecar'))"
   ]
  }
 ],
 "metadata": {
  "kernelspec": {
   "display_name": "Python 3 (ipykernel)",
   "language": "python",
   "name": "python3"
  },
  "language_info": {
   "codemirror_mode": {
    "name": "ipython",
    "version": 3
   },
   "file_extension": ".py",
   "mimetype": "text/x-python",
   "name": "python",
   "nbconvert_exporter": "python",
   "pygments_lexer": "ipython3",
   "version": "3.9.16"
  }
 },
 "nbformat": 4,
 "nbformat_minor": 5
}
